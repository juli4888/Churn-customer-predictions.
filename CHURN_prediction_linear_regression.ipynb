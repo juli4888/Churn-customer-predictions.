{
  "nbformat": 4,
  "nbformat_minor": 0,
  "metadata": {
    "colab": {
      "name": "CHURN prueba Data Science.ipynb",
      "provenance": [],
      "collapsed_sections": []
    },
    "kernelspec": {
      "name": "python3",
      "display_name": "Python 3"
    }
  },
  "cells": [
    {
      "cell_type": "code",
      "metadata": {
        "id": "WJceabXBaWq-"
      },
      "source": [
        "import pandas as pd\r\n",
        "import pylab as pl\r\n",
        "import numpy as np\r\n",
        "import scipy.optimize as opt\r\n",
        "from sklearn import preprocessing\r\n",
        "%matplotlib inline\r\n",
        "import matplotlib.pyplot as plt\r\n",
        "import io"
      ],
      "execution_count": 1,
      "outputs": []
    },
    {
      "cell_type": "code",
      "metadata": {
        "colab": {
          "resources": {
            "http://localhost:8080/nbextensions/google.colab/files.js": {
              "data": "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",
              "ok": true,
              "headers": [
                [
                  "content-type",
                  "application/javascript"
                ]
              ],
              "status": 200,
              "status_text": ""
            }
          },
          "base_uri": "https://localhost:8080/",
          "height": 90
        },
        "id": "I7TNexPdcWMB",
        "outputId": "d4dfe666-d183-4287-a771-ff6c20870a62"
      },
      "source": [
        "# para cargar el archivo .csv guardado localmente\r\n",
        "\r\n",
        "from google.colab import files\r\n",
        "uploaded = files.upload()"
      ],
      "execution_count": 8,
      "outputs": [
        {
          "output_type": "display_data",
          "data": {
            "text/html": [
              "\n",
              "     <input type=\"file\" id=\"files-35fb3ada-e09b-4ffb-8545-76d3a4fb4959\" name=\"files[]\" multiple disabled\n",
              "        style=\"border:none\" />\n",
              "     <output id=\"result-35fb3ada-e09b-4ffb-8545-76d3a4fb4959\">\n",
              "      Upload widget is only available when the cell has been executed in the\n",
              "      current browser session. Please rerun this cell to enable.\n",
              "      </output>\n",
              "      <script src=\"/nbextensions/google.colab/files.js\"></script> "
            ],
            "text/plain": [
              "<IPython.core.display.HTML object>"
            ]
          },
          "metadata": {
            "tags": []
          }
        },
        {
          "output_type": "stream",
          "text": [
            "Saving BD Prueba tecnica.xlsx to BD Prueba tecnica.xlsx\n"
          ],
          "name": "stdout"
        }
      ]
    },
    {
      "cell_type": "code",
      "metadata": {
        "colab": {
          "base_uri": "https://localhost:8080/",
          "height": 745
        },
        "id": "u1oHaSm2avBx",
        "outputId": "3e8a57ce-bca1-42db-e3b0-2879c16ecb30"
      },
      "source": [
        "pd.set_option('display.max_rows', 500)\r\n",
        "\r\n",
        "#churn_df = pd.read_csv(io.StringIO(uploaded['BD Prueba tecnica.csv'].decode('utf-8')))\r\n",
        "#churn_df.head()\r\n",
        "\r\n",
        "churn_df = pd.read_excel('BD Prueba tecnica.xlsx')\r\n",
        "churn_df"
      ],
      "execution_count": 12,
      "outputs": [
        {
          "output_type": "execute_result",
          "data": {
            "text/html": [
              "<div>\n",
              "<style scoped>\n",
              "    .dataframe tbody tr th:only-of-type {\n",
              "        vertical-align: middle;\n",
              "    }\n",
              "\n",
              "    .dataframe tbody tr th {\n",
              "        vertical-align: top;\n",
              "    }\n",
              "\n",
              "    .dataframe thead th {\n",
              "        text-align: right;\n",
              "    }\n",
              "</style>\n",
              "<table border=\"1\" class=\"dataframe\">\n",
              "  <thead>\n",
              "    <tr style=\"text-align: right;\">\n",
              "      <th></th>\n",
              "      <th>ID</th>\n",
              "      <th>Estado Cliente al final del periodo</th>\n",
              "      <th>Churn Total</th>\n",
              "      <th>Score A</th>\n",
              "      <th>Score B</th>\n",
              "      <th>Tipo Vivienda</th>\n",
              "      <th>Zona Instalacion</th>\n",
              "      <th>Distrito</th>\n",
              "      <th>Estrato Georeferenciado</th>\n",
              "      <th>Estrato Declarado</th>\n",
              "      <th>Tipo Factura</th>\n",
              "      <th>Producto</th>\n",
              "      <th>Premium Movie</th>\n",
              "      <th>Premium HBO</th>\n",
              "      <th>Premium Adultos</th>\n",
              "      <th>Tecnologia</th>\n",
              "      <th>Catidad Decodificadores</th>\n",
              "      <th>Decodificadores Regular</th>\n",
              "      <th>Decodificadores  DVR</th>\n",
              "      <th>Decodificadores  HD</th>\n",
              "      <th>Decodificadores  \"HD ONLY\"</th>\n",
              "      <th>Metodo de Pago Estandarizado</th>\n",
              "      <th>Antigüedad</th>\n",
              "      <th>Canal Estandarizado</th>\n",
              "      <th>Estrato Estandarizado</th>\n",
              "      <th>Score Aprobación</th>\n",
              "      <th>Score Aprobación Estandarizado</th>\n",
              "      <th>Tecnología Nexus</th>\n",
              "      <th>Revista DirecTV</th>\n",
              "      <th>Cantidad Decodificadores Total</th>\n",
              "      <th>Tipo Suscripcion</th>\n",
              "      <th>Campaña de Cobranza Actual</th>\n",
              "    </tr>\n",
              "  </thead>\n",
              "  <tbody>\n",
              "    <tr>\n",
              "      <th>0</th>\n",
              "      <td>421541</td>\n",
              "      <td>A - Activo</td>\n",
              "      <td>0</td>\n",
              "      <td>NaN</td>\n",
              "      <td>19.0</td>\n",
              "      <td>D - Normal Edificio</td>\n",
              "      <td>URBANO</td>\n",
              "      <td>ORIENTE</td>\n",
              "      <td>3.0</td>\n",
              "      <td>3.0</td>\n",
              "      <td>Electronic</td>\n",
              "      <td>PLATA FULL</td>\n",
              "      <td>1</td>\n",
              "      <td>1</td>\n",
              "      <td>0</td>\n",
              "      <td>HD_ONLY</td>\n",
              "      <td>2.0</td>\n",
              "      <td>0.0</td>\n",
              "      <td>0.0</td>\n",
              "      <td>0.0</td>\n",
              "      <td>2.0</td>\n",
              "      <td>DA - TC</td>\n",
              "      <td>1.0</td>\n",
              "      <td>NaN</td>\n",
              "      <td>3.0</td>\n",
              "      <td>552.0</td>\n",
              "      <td>[401-600]</td>\n",
              "      <td>0</td>\n",
              "      <td>0</td>\n",
              "      <td>NaN</td>\n",
              "      <td>Cross Selling</td>\n",
              "      <td>DX35_riesgo_medio_y_bajo</td>\n",
              "    </tr>\n",
              "    <tr>\n",
              "      <th>1</th>\n",
              "      <td>544025</td>\n",
              "      <td>A - Activo</td>\n",
              "      <td>0</td>\n",
              "      <td>NaN</td>\n",
              "      <td>NaN</td>\n",
              "      <td>N- Normal Casa</td>\n",
              "      <td>URBANO</td>\n",
              "      <td>NOROCCIDENTE</td>\n",
              "      <td>NaN</td>\n",
              "      <td>1.0</td>\n",
              "      <td>Printed</td>\n",
              "      <td>PLATA FULL</td>\n",
              "      <td>1</td>\n",
              "      <td>0</td>\n",
              "      <td>0</td>\n",
              "      <td>HD</td>\n",
              "      <td>2.0</td>\n",
              "      <td>1.0</td>\n",
              "      <td>0.0</td>\n",
              "      <td>1.0</td>\n",
              "      <td>0.0</td>\n",
              "      <td>DA - Ahorros o Cte</td>\n",
              "      <td>1.0</td>\n",
              "      <td>Dealer</td>\n",
              "      <td>NaN</td>\n",
              "      <td>448.0</td>\n",
              "      <td>[401-600]</td>\n",
              "      <td>0</td>\n",
              "      <td>0</td>\n",
              "      <td>NaN</td>\n",
              "      <td>Bundle</td>\n",
              "      <td>NaN</td>\n",
              "    </tr>\n",
              "    <tr>\n",
              "      <th>2</th>\n",
              "      <td>562872</td>\n",
              "      <td>A - Activo</td>\n",
              "      <td>0</td>\n",
              "      <td>NaN</td>\n",
              "      <td>21.0</td>\n",
              "      <td>N- Normal Casa</td>\n",
              "      <td>URBANO</td>\n",
              "      <td>OCCIDENTE</td>\n",
              "      <td>NaN</td>\n",
              "      <td>3.0</td>\n",
              "      <td>Printed</td>\n",
              "      <td>ORO FULL</td>\n",
              "      <td>0</td>\n",
              "      <td>0</td>\n",
              "      <td>0</td>\n",
              "      <td>HD_ONLY</td>\n",
              "      <td>2.0</td>\n",
              "      <td>0.0</td>\n",
              "      <td>0.0</td>\n",
              "      <td>0.0</td>\n",
              "      <td>2.0</td>\n",
              "      <td>DA - Ahorros o Cte</td>\n",
              "      <td>1.0</td>\n",
              "      <td>Directo</td>\n",
              "      <td>NaN</td>\n",
              "      <td>1.0</td>\n",
              "      <td>Acierta 1</td>\n",
              "      <td>0</td>\n",
              "      <td>0</td>\n",
              "      <td>NaN</td>\n",
              "      <td>Bundle</td>\n",
              "      <td>DX35_riesgo_medio_y_bajo</td>\n",
              "    </tr>\n",
              "    <tr>\n",
              "      <th>3</th>\n",
              "      <td>562930</td>\n",
              "      <td>A - Activo</td>\n",
              "      <td>0</td>\n",
              "      <td>NaN</td>\n",
              "      <td>NaN</td>\n",
              "      <td>D - Normal Edificio</td>\n",
              "      <td>URBANO</td>\n",
              "      <td>BOGOTA</td>\n",
              "      <td>NaN</td>\n",
              "      <td>3.0</td>\n",
              "      <td>Printed</td>\n",
              "      <td>ORO FULL</td>\n",
              "      <td>0</td>\n",
              "      <td>0</td>\n",
              "      <td>0</td>\n",
              "      <td>HD_ONLY</td>\n",
              "      <td>2.0</td>\n",
              "      <td>0.0</td>\n",
              "      <td>0.0</td>\n",
              "      <td>0.0</td>\n",
              "      <td>2.0</td>\n",
              "      <td>DA - TC</td>\n",
              "      <td>1.0</td>\n",
              "      <td>Dealer</td>\n",
              "      <td>NaN</td>\n",
              "      <td>780.0</td>\n",
              "      <td>[601-950]</td>\n",
              "      <td>0</td>\n",
              "      <td>0</td>\n",
              "      <td>NaN</td>\n",
              "      <td>Only TV</td>\n",
              "      <td>NaN</td>\n",
              "    </tr>\n",
              "    <tr>\n",
              "      <th>4</th>\n",
              "      <td>565269</td>\n",
              "      <td>A - Activo</td>\n",
              "      <td>0</td>\n",
              "      <td>NaN</td>\n",
              "      <td>NaN</td>\n",
              "      <td>D - Normal Edificio</td>\n",
              "      <td>URBANO</td>\n",
              "      <td>BOGOTA</td>\n",
              "      <td>NaN</td>\n",
              "      <td>6.0</td>\n",
              "      <td>Printed</td>\n",
              "      <td>ORO FULL</td>\n",
              "      <td>0</td>\n",
              "      <td>0</td>\n",
              "      <td>0</td>\n",
              "      <td>HD_ONLY</td>\n",
              "      <td>2.0</td>\n",
              "      <td>0.0</td>\n",
              "      <td>0.0</td>\n",
              "      <td>0.0</td>\n",
              "      <td>2.0</td>\n",
              "      <td>DA - TC</td>\n",
              "      <td>1.0</td>\n",
              "      <td>Dealer</td>\n",
              "      <td>NaN</td>\n",
              "      <td>0.0</td>\n",
              "      <td>Zona Gris</td>\n",
              "      <td>0</td>\n",
              "      <td>0</td>\n",
              "      <td>NaN</td>\n",
              "      <td>Only TV</td>\n",
              "      <td>NaN</td>\n",
              "    </tr>\n",
              "    <tr>\n",
              "      <th>...</th>\n",
              "      <td>...</td>\n",
              "      <td>...</td>\n",
              "      <td>...</td>\n",
              "      <td>...</td>\n",
              "      <td>...</td>\n",
              "      <td>...</td>\n",
              "      <td>...</td>\n",
              "      <td>...</td>\n",
              "      <td>...</td>\n",
              "      <td>...</td>\n",
              "      <td>...</td>\n",
              "      <td>...</td>\n",
              "      <td>...</td>\n",
              "      <td>...</td>\n",
              "      <td>...</td>\n",
              "      <td>...</td>\n",
              "      <td>...</td>\n",
              "      <td>...</td>\n",
              "      <td>...</td>\n",
              "      <td>...</td>\n",
              "      <td>...</td>\n",
              "      <td>...</td>\n",
              "      <td>...</td>\n",
              "      <td>...</td>\n",
              "      <td>...</td>\n",
              "      <td>...</td>\n",
              "      <td>...</td>\n",
              "      <td>...</td>\n",
              "      <td>...</td>\n",
              "      <td>...</td>\n",
              "      <td>...</td>\n",
              "      <td>...</td>\n",
              "    </tr>\n",
              "    <tr>\n",
              "      <th>9995</th>\n",
              "      <td>491544</td>\n",
              "      <td>A - Activo</td>\n",
              "      <td>0</td>\n",
              "      <td>0.000536</td>\n",
              "      <td>11.0</td>\n",
              "      <td>N- Normal Casa</td>\n",
              "      <td>URBANO</td>\n",
              "      <td>OCCIDENTE</td>\n",
              "      <td>NaN</td>\n",
              "      <td>2.0</td>\n",
              "      <td>Printed</td>\n",
              "      <td>ORO MAX</td>\n",
              "      <td>0</td>\n",
              "      <td>0</td>\n",
              "      <td>0</td>\n",
              "      <td>HD</td>\n",
              "      <td>5.0</td>\n",
              "      <td>0.0</td>\n",
              "      <td>0.0</td>\n",
              "      <td>1.0</td>\n",
              "      <td>4.0</td>\n",
              "      <td>DA - TC</td>\n",
              "      <td>8.0</td>\n",
              "      <td>Televentas</td>\n",
              "      <td>NaN</td>\n",
              "      <td>629.0</td>\n",
              "      <td>[601-950]</td>\n",
              "      <td>0</td>\n",
              "      <td>0</td>\n",
              "      <td>NaN</td>\n",
              "      <td>Only TV</td>\n",
              "      <td>DX35_riesgo_medio_y_bajo</td>\n",
              "    </tr>\n",
              "    <tr>\n",
              "      <th>9996</th>\n",
              "      <td>4502</td>\n",
              "      <td>A - Activo</td>\n",
              "      <td>0</td>\n",
              "      <td>0.000531</td>\n",
              "      <td>24.0</td>\n",
              "      <td>N- Normal Casa</td>\n",
              "      <td>URBANO</td>\n",
              "      <td>OCCIDENTE</td>\n",
              "      <td>6.0</td>\n",
              "      <td>NaN</td>\n",
              "      <td>Electronic</td>\n",
              "      <td>ORO MAX</td>\n",
              "      <td>1</td>\n",
              "      <td>1</td>\n",
              "      <td>0</td>\n",
              "      <td>HD</td>\n",
              "      <td>5.0</td>\n",
              "      <td>3.0</td>\n",
              "      <td>0.0</td>\n",
              "      <td>1.0</td>\n",
              "      <td>1.0</td>\n",
              "      <td>INVOICE</td>\n",
              "      <td>NaN</td>\n",
              "      <td>Dealer</td>\n",
              "      <td>6.0</td>\n",
              "      <td>NaN</td>\n",
              "      <td>Sin Score</td>\n",
              "      <td>0</td>\n",
              "      <td>0</td>\n",
              "      <td>5.0</td>\n",
              "      <td>Only TV</td>\n",
              "      <td>DX35_riesgo_medio_y_bajo</td>\n",
              "    </tr>\n",
              "    <tr>\n",
              "      <th>9997</th>\n",
              "      <td>484915</td>\n",
              "      <td>A - Activo</td>\n",
              "      <td>0</td>\n",
              "      <td>0.000522</td>\n",
              "      <td>20.0</td>\n",
              "      <td>N- Normal Casa</td>\n",
              "      <td>URBANO</td>\n",
              "      <td>CENTRO</td>\n",
              "      <td>NaN</td>\n",
              "      <td>4.0</td>\n",
              "      <td>Printed</td>\n",
              "      <td>ORO MAX</td>\n",
              "      <td>1</td>\n",
              "      <td>1</td>\n",
              "      <td>0</td>\n",
              "      <td>HD</td>\n",
              "      <td>5.0</td>\n",
              "      <td>0.0</td>\n",
              "      <td>0.0</td>\n",
              "      <td>1.0</td>\n",
              "      <td>4.0</td>\n",
              "      <td>DA - TC</td>\n",
              "      <td>9.0</td>\n",
              "      <td>Dealer</td>\n",
              "      <td>NaN</td>\n",
              "      <td>751.0</td>\n",
              "      <td>[601-950]</td>\n",
              "      <td>0</td>\n",
              "      <td>0</td>\n",
              "      <td>NaN</td>\n",
              "      <td>Only TV</td>\n",
              "      <td>DX35_riesgo_medio_y_bajo</td>\n",
              "    </tr>\n",
              "    <tr>\n",
              "      <th>9998</th>\n",
              "      <td>460914</td>\n",
              "      <td>A - Activo</td>\n",
              "      <td>0</td>\n",
              "      <td>0.000522</td>\n",
              "      <td>12.0</td>\n",
              "      <td>N- Normal Casa</td>\n",
              "      <td>URBANO</td>\n",
              "      <td>NORTE</td>\n",
              "      <td>NaN</td>\n",
              "      <td>2.0</td>\n",
              "      <td>Printed</td>\n",
              "      <td>ORO MAX</td>\n",
              "      <td>1</td>\n",
              "      <td>1</td>\n",
              "      <td>1</td>\n",
              "      <td>HD</td>\n",
              "      <td>5.0</td>\n",
              "      <td>0.0</td>\n",
              "      <td>0.0</td>\n",
              "      <td>1.0</td>\n",
              "      <td>4.0</td>\n",
              "      <td>INVOICE</td>\n",
              "      <td>11.0</td>\n",
              "      <td>Dealer</td>\n",
              "      <td>NaN</td>\n",
              "      <td>475.0</td>\n",
              "      <td>[401-600]</td>\n",
              "      <td>0</td>\n",
              "      <td>0</td>\n",
              "      <td>5.0</td>\n",
              "      <td>Only TV</td>\n",
              "      <td>DX35_riesgo_medio_y_bajo</td>\n",
              "    </tr>\n",
              "    <tr>\n",
              "      <th>9999</th>\n",
              "      <td>547247</td>\n",
              "      <td>A - Activo</td>\n",
              "      <td>0</td>\n",
              "      <td>0.000501</td>\n",
              "      <td>15.0</td>\n",
              "      <td>N- Normal Casa</td>\n",
              "      <td>URBANO</td>\n",
              "      <td>NORTE</td>\n",
              "      <td>NaN</td>\n",
              "      <td>4.0</td>\n",
              "      <td>Printed</td>\n",
              "      <td>ORO FULL</td>\n",
              "      <td>1</td>\n",
              "      <td>1</td>\n",
              "      <td>0</td>\n",
              "      <td>HD</td>\n",
              "      <td>5.0</td>\n",
              "      <td>0.0</td>\n",
              "      <td>0.0</td>\n",
              "      <td>1.0</td>\n",
              "      <td>4.0</td>\n",
              "      <td>DA - TC</td>\n",
              "      <td>3.0</td>\n",
              "      <td>Dealer</td>\n",
              "      <td>NaN</td>\n",
              "      <td>600.0</td>\n",
              "      <td>[401-600]</td>\n",
              "      <td>1</td>\n",
              "      <td>0</td>\n",
              "      <td>NaN</td>\n",
              "      <td>Only TV</td>\n",
              "      <td>DX35_riesgo_alto_y_muy_alto</td>\n",
              "    </tr>\n",
              "  </tbody>\n",
              "</table>\n",
              "<p>10000 rows × 32 columns</p>\n",
              "</div>"
            ],
            "text/plain": [
              "          ID  ...   Campaña de Cobranza Actual\n",
              "0     421541  ...     DX35_riesgo_medio_y_bajo\n",
              "1     544025  ...                          NaN\n",
              "2     562872  ...     DX35_riesgo_medio_y_bajo\n",
              "3     562930  ...                          NaN\n",
              "4     565269  ...                          NaN\n",
              "...      ...  ...                          ...\n",
              "9995  491544  ...     DX35_riesgo_medio_y_bajo\n",
              "9996    4502  ...     DX35_riesgo_medio_y_bajo\n",
              "9997  484915  ...     DX35_riesgo_medio_y_bajo\n",
              "9998  460914  ...     DX35_riesgo_medio_y_bajo\n",
              "9999  547247  ...  DX35_riesgo_alto_y_muy_alto\n",
              "\n",
              "[10000 rows x 32 columns]"
            ]
          },
          "metadata": {
            "tags": []
          },
          "execution_count": 12
        }
      ]
    },
    {
      "cell_type": "code",
      "metadata": {
        "colab": {
          "base_uri": "https://localhost:8080/",
          "height": 326
        },
        "id": "ZxPNyaY6fUnS",
        "outputId": "58efff71-a6ce-4789-89ac-1f2d1a01f2fa"
      },
      "source": [
        "churn_df = churn_df[['Estado Cliente al final del periodo', 'Churn Total', 'Score A', 'Score B']]\r\n",
        "churn_df['churn'] = churn_df['Churn Total'].astype('int')\r\n",
        "churn_df.head()"
      ],
      "execution_count": 13,
      "outputs": [
        {
          "output_type": "stream",
          "text": [
            "/usr/local/lib/python3.7/dist-packages/ipykernel_launcher.py:2: SettingWithCopyWarning: \n",
            "A value is trying to be set on a copy of a slice from a DataFrame.\n",
            "Try using .loc[row_indexer,col_indexer] = value instead\n",
            "\n",
            "See the caveats in the documentation: https://pandas.pydata.org/pandas-docs/stable/user_guide/indexing.html#returning-a-view-versus-a-copy\n",
            "  \n"
          ],
          "name": "stderr"
        },
        {
          "output_type": "execute_result",
          "data": {
            "text/html": [
              "<div>\n",
              "<style scoped>\n",
              "    .dataframe tbody tr th:only-of-type {\n",
              "        vertical-align: middle;\n",
              "    }\n",
              "\n",
              "    .dataframe tbody tr th {\n",
              "        vertical-align: top;\n",
              "    }\n",
              "\n",
              "    .dataframe thead th {\n",
              "        text-align: right;\n",
              "    }\n",
              "</style>\n",
              "<table border=\"1\" class=\"dataframe\">\n",
              "  <thead>\n",
              "    <tr style=\"text-align: right;\">\n",
              "      <th></th>\n",
              "      <th>Estado Cliente al final del periodo</th>\n",
              "      <th>Churn Total</th>\n",
              "      <th>Score A</th>\n",
              "      <th>Score B</th>\n",
              "      <th>churn</th>\n",
              "    </tr>\n",
              "  </thead>\n",
              "  <tbody>\n",
              "    <tr>\n",
              "      <th>0</th>\n",
              "      <td>A - Activo</td>\n",
              "      <td>0</td>\n",
              "      <td>NaN</td>\n",
              "      <td>19.0</td>\n",
              "      <td>0</td>\n",
              "    </tr>\n",
              "    <tr>\n",
              "      <th>1</th>\n",
              "      <td>A - Activo</td>\n",
              "      <td>0</td>\n",
              "      <td>NaN</td>\n",
              "      <td>NaN</td>\n",
              "      <td>0</td>\n",
              "    </tr>\n",
              "    <tr>\n",
              "      <th>2</th>\n",
              "      <td>A - Activo</td>\n",
              "      <td>0</td>\n",
              "      <td>NaN</td>\n",
              "      <td>21.0</td>\n",
              "      <td>0</td>\n",
              "    </tr>\n",
              "    <tr>\n",
              "      <th>3</th>\n",
              "      <td>A - Activo</td>\n",
              "      <td>0</td>\n",
              "      <td>NaN</td>\n",
              "      <td>NaN</td>\n",
              "      <td>0</td>\n",
              "    </tr>\n",
              "    <tr>\n",
              "      <th>4</th>\n",
              "      <td>A - Activo</td>\n",
              "      <td>0</td>\n",
              "      <td>NaN</td>\n",
              "      <td>NaN</td>\n",
              "      <td>0</td>\n",
              "    </tr>\n",
              "  </tbody>\n",
              "</table>\n",
              "</div>"
            ],
            "text/plain": [
              "  Estado Cliente al final del periodo  Churn Total  Score A  Score B  churn\n",
              "0                          A - Activo            0      NaN     19.0      0\n",
              "1                          A - Activo            0      NaN      NaN      0\n",
              "2                          A - Activo            0      NaN     21.0      0\n",
              "3                          A - Activo            0      NaN      NaN      0\n",
              "4                          A - Activo            0      NaN      NaN      0"
            ]
          },
          "metadata": {
            "tags": []
          },
          "execution_count": 13
        }
      ]
    },
    {
      "cell_type": "code",
      "metadata": {
        "colab": {
          "base_uri": "https://localhost:8080/"
        },
        "id": "IjCSP5Zcg0Hp",
        "outputId": "dabff155-a86b-415b-f90c-9323bd97f980"
      },
      "source": [
        "churn_df.shape"
      ],
      "execution_count": 14,
      "outputs": [
        {
          "output_type": "execute_result",
          "data": {
            "text/plain": [
              "(10000, 5)"
            ]
          },
          "metadata": {
            "tags": []
          },
          "execution_count": 14
        }
      ]
    },
    {
      "cell_type": "code",
      "metadata": {
        "colab": {
          "base_uri": "https://localhost:8080/"
        },
        "id": "TWEG0g-dj_DK",
        "outputId": "06e63809-99a4-49e8-9fef-cc1844bf762d"
      },
      "source": [
        "# información de la data (tipos de variables)\r\n",
        "churn_df.info() \r\n",
        "  "
      ],
      "execution_count": 17,
      "outputs": [
        {
          "output_type": "stream",
          "text": [
            "<class 'pandas.core.frame.DataFrame'>\n",
            "RangeIndex: 10000 entries, 0 to 9999\n",
            "Data columns (total 5 columns):\n",
            " #   Column                               Non-Null Count  Dtype  \n",
            "---  ------                               --------------  -----  \n",
            " 0   Estado Cliente al final del periodo  10000 non-null  object \n",
            " 1   Churn Total                          10000 non-null  int64  \n",
            " 2   Score A                              9089 non-null   float64\n",
            " 3   Score B                              9859 non-null   float64\n",
            " 4   churn                                10000 non-null  int64  \n",
            "dtypes: float64(2), int64(2), object(1)\n",
            "memory usage: 390.8+ KB\n"
          ],
          "name": "stdout"
        }
      ]
    },
    {
      "cell_type": "code",
      "metadata": {
        "colab": {
          "base_uri": "https://localhost:8080/"
        },
        "id": "7dYNo8dVkQcx",
        "outputId": "4cf16911-9438-49a3-e613-0a5d9205eafb"
      },
      "source": [
        "## Calidad de los datos: total de datos faltantes ##\r\n",
        "\r\n",
        "print(churn_df.isnull().sum())"
      ],
      "execution_count": 18,
      "outputs": [
        {
          "output_type": "stream",
          "text": [
            "Estado Cliente al final del periodo      0\n",
            "Churn Total                              0\n",
            "Score A                                911\n",
            "Score B                                141\n",
            "churn                                    0\n",
            "dtype: int64\n"
          ],
          "name": "stdout"
        }
      ]
    },
    {
      "cell_type": "markdown",
      "metadata": {
        "id": "XNCGHc-InwEK"
      },
      "source": [
        "Se tienen 10000 registros de los cuales se desea omitir los NA primero para el score A y luego para score B. En la variable score A hay 911 faltantes y en Score B hay 141 faltantes."
      ]
    },
    {
      "cell_type": "code",
      "metadata": {
        "colab": {
          "base_uri": "https://localhost:8080/",
          "height": 297
        },
        "id": "39X0FVKxktfP",
        "outputId": "41e6a3fb-e652-4674-8818-6a63663f9fe7"
      },
      "source": [
        "#Summary de las variables\r\n",
        "churn_df.describe()\r\n"
      ],
      "execution_count": 19,
      "outputs": [
        {
          "output_type": "execute_result",
          "data": {
            "text/html": [
              "<div>\n",
              "<style scoped>\n",
              "    .dataframe tbody tr th:only-of-type {\n",
              "        vertical-align: middle;\n",
              "    }\n",
              "\n",
              "    .dataframe tbody tr th {\n",
              "        vertical-align: top;\n",
              "    }\n",
              "\n",
              "    .dataframe thead th {\n",
              "        text-align: right;\n",
              "    }\n",
              "</style>\n",
              "<table border=\"1\" class=\"dataframe\">\n",
              "  <thead>\n",
              "    <tr style=\"text-align: right;\">\n",
              "      <th></th>\n",
              "      <th>Churn Total</th>\n",
              "      <th>Score A</th>\n",
              "      <th>Score B</th>\n",
              "      <th>churn</th>\n",
              "    </tr>\n",
              "  </thead>\n",
              "  <tbody>\n",
              "    <tr>\n",
              "      <th>count</th>\n",
              "      <td>10000.000000</td>\n",
              "      <td>9089.000000</td>\n",
              "      <td>9859.000000</td>\n",
              "      <td>10000.000000</td>\n",
              "    </tr>\n",
              "    <tr>\n",
              "      <th>mean</th>\n",
              "      <td>0.506300</td>\n",
              "      <td>0.013992</td>\n",
              "      <td>15.366670</td>\n",
              "      <td>0.506300</td>\n",
              "    </tr>\n",
              "    <tr>\n",
              "      <th>std</th>\n",
              "      <td>0.499985</td>\n",
              "      <td>0.012711</td>\n",
              "      <td>7.285636</td>\n",
              "      <td>0.499985</td>\n",
              "    </tr>\n",
              "    <tr>\n",
              "      <th>min</th>\n",
              "      <td>0.000000</td>\n",
              "      <td>0.000501</td>\n",
              "      <td>1.000000</td>\n",
              "      <td>0.000000</td>\n",
              "    </tr>\n",
              "    <tr>\n",
              "      <th>25%</th>\n",
              "      <td>0.000000</td>\n",
              "      <td>0.004920</td>\n",
              "      <td>11.000000</td>\n",
              "      <td>0.000000</td>\n",
              "    </tr>\n",
              "    <tr>\n",
              "      <th>50%</th>\n",
              "      <td>1.000000</td>\n",
              "      <td>0.010649</td>\n",
              "      <td>18.000000</td>\n",
              "      <td>1.000000</td>\n",
              "    </tr>\n",
              "    <tr>\n",
              "      <th>75%</th>\n",
              "      <td>1.000000</td>\n",
              "      <td>0.018873</td>\n",
              "      <td>21.000000</td>\n",
              "      <td>1.000000</td>\n",
              "    </tr>\n",
              "    <tr>\n",
              "      <th>max</th>\n",
              "      <td>1.000000</td>\n",
              "      <td>0.137990</td>\n",
              "      <td>24.000000</td>\n",
              "      <td>1.000000</td>\n",
              "    </tr>\n",
              "  </tbody>\n",
              "</table>\n",
              "</div>"
            ],
            "text/plain": [
              "        Churn Total      Score A      Score B         churn\n",
              "count  10000.000000  9089.000000  9859.000000  10000.000000\n",
              "mean       0.506300     0.013992    15.366670      0.506300\n",
              "std        0.499985     0.012711     7.285636      0.499985\n",
              "min        0.000000     0.000501     1.000000      0.000000\n",
              "25%        0.000000     0.004920    11.000000      0.000000\n",
              "50%        1.000000     0.010649    18.000000      1.000000\n",
              "75%        1.000000     0.018873    21.000000      1.000000\n",
              "max        1.000000     0.137990    24.000000      1.000000"
            ]
          },
          "metadata": {
            "tags": []
          },
          "execution_count": 19
        }
      ]
    },
    {
      "cell_type": "code",
      "metadata": {
        "colab": {
          "base_uri": "https://localhost:8080/",
          "height": 285
        },
        "id": "_MTH784Vk954",
        "outputId": "9fff6fd8-1dc6-4b8b-8ffa-a89c4e39ea83"
      },
      "source": [
        "# Histograma de la distribución de la variable Score A\r\n",
        "churn_df['Score A'].hist()"
      ],
      "execution_count": 21,
      "outputs": [
        {
          "output_type": "execute_result",
          "data": {
            "text/plain": [
              "<matplotlib.axes._subplots.AxesSubplot at 0x7f94c85ef390>"
            ]
          },
          "metadata": {
            "tags": []
          },
          "execution_count": 21
        },
        {
          "output_type": "display_data",
          "data": {
            "image/png": "[encoded data removed]",
            "text/plain": [
              "<Figure size 432x288 with 1 Axes>"
            ]
          },
          "metadata": {
            "tags": [],
            "needs_background": "light"
          }
        }
      ]
    },
    {
      "cell_type": "code",
      "metadata": {
        "colab": {
          "base_uri": "https://localhost:8080/",
          "height": 282
        },
        "id": "Ku7cBi9blGaZ",
        "outputId": "d6b8b5a5-2ebc-4421-f192-7cbd44fa28ca"
      },
      "source": [
        "# Histograma de la distribución de la variable Score B\r\n",
        "churn_df['Score B'].hist()"
      ],
      "execution_count": 22,
      "outputs": [
        {
          "output_type": "execute_result",
          "data": {
            "text/plain": [
              "<matplotlib.axes._subplots.AxesSubplot at 0x7f94c7bc7710>"
            ]
          },
          "metadata": {
            "tags": []
          },
          "execution_count": 22
        },
        {
          "output_type": "display_data",
          "data": {
            "image/png": "[encoded data removed]",
            "text/plain": [
              "<Figure size 432x288 with 1 Axes>"
            ]
          },
          "metadata": {
            "tags": [],
            "needs_background": "light"
          }
        }
      ]
    },
    {
      "cell_type": "code",
      "metadata": {
        "colab": {
          "base_uri": "https://localhost:8080/",
          "height": 282
        },
        "id": "5y8jmXmLlLqK",
        "outputId": "f84603fb-4a13-489b-b0b6-78c9cd423acb"
      },
      "source": [
        "# Histograma de la distribución de la variable churn\r\n",
        "churn_df['churn'].hist()"
      ],
      "execution_count": 23,
      "outputs": [
        {
          "output_type": "execute_result",
          "data": {
            "text/plain": [
              "<matplotlib.axes._subplots.AxesSubplot at 0x7f94c7b66790>"
            ]
          },
          "metadata": {
            "tags": []
          },
          "execution_count": 23
        },
        {
          "output_type": "display_data",
          "data": {
            "image/png": "[encoded data removed]",
            "text/plain": [
              "<Figure size 432x288 with 1 Axes>"
            ]
          },
          "metadata": {
            "tags": [],
            "needs_background": "light"
          }
        }
      ]
    },
    {
      "cell_type": "code",
      "metadata": {
        "id": "0lelJeQynE6q"
      },
      "source": [
        "# Se eliminan los na del dataframe\r\n",
        "\r\n",
        "churn_df=churn_df.dropna()"
      ],
      "execution_count": 26,
      "outputs": []
    },
    {
      "cell_type": "code",
      "metadata": {
        "colab": {
          "base_uri": "https://localhost:8080/"
        },
        "id": "MpN9JBZKnNI3",
        "outputId": "9f7d238d-2d18-49b5-8ba3-3807152ce1fe"
      },
      "source": [
        "## Calidad de los datos: total de datos faltantes, ahora hay cero ##\r\n",
        "\r\n",
        "print(churn_df.isnull().sum())"
      ],
      "execution_count": 27,
      "outputs": [
        {
          "output_type": "stream",
          "text": [
            "Estado Cliente al final del periodo    0\n",
            "Churn Total                            0\n",
            "Score A                                0\n",
            "Score B                                0\n",
            "churn                                  0\n",
            "dtype: int64\n"
          ],
          "name": "stdout"
        }
      ]
    },
    {
      "cell_type": "code",
      "metadata": {
        "colab": {
          "base_uri": "https://localhost:8080/"
        },
        "id": "4mmt_zWznd8v",
        "outputId": "13e56dcb-6629-43a8-ba8e-c17e48a509ef"
      },
      "source": [
        "churn_df.shape\r\n",
        "\r\n",
        "# La base con la que se trabajará tiene 9080 registros"
      ],
      "execution_count": 28,
      "outputs": [
        {
          "output_type": "execute_result",
          "data": {
            "text/plain": [
              "(9080, 5)"
            ]
          },
          "metadata": {
            "tags": []
          },
          "execution_count": 28
        }
      ]
    },
    {
      "cell_type": "code",
      "metadata": {
        "colab": {
          "base_uri": "https://localhost:8080/"
        },
        "id": "ylgVmJ0Nhdui",
        "outputId": "f246c67c-fb2f-4990-b59d-051a0651b76c"
      },
      "source": [
        "# Se coloca en un vector el score A ya limpio (sin NA)\r\n",
        "\r\n",
        "X = np.asarray(churn_df[['Score A']])\r\n",
        "X"
      ],
      "execution_count": 29,
      "outputs": [
        {
          "output_type": "execute_result",
          "data": {
            "text/plain": [
              "array([[0.13798981],\n",
              "       [0.12249928],\n",
              "       [0.11771979],\n",
              "       ...,\n",
              "       [0.00052241],\n",
              "       [0.00052241],\n",
              "       [0.00050149]])"
            ]
          },
          "metadata": {
            "tags": []
          },
          "execution_count": 29
        }
      ]
    },
    {
      "cell_type": "code",
      "metadata": {
        "colab": {
          "base_uri": "https://localhost:8080/"
        },
        "id": "wP7hf6y3oDSI",
        "outputId": "f4c32dde-14a2-41b8-9204-074fc13955d9"
      },
      "source": [
        "## La variable churn en un vector aparte:\r\n",
        "\r\n",
        "y = np.asarray(churn_df['churn'])\r\n",
        "y[0:5]"
      ],
      "execution_count": 30,
      "outputs": [
        {
          "output_type": "execute_result",
          "data": {
            "text/plain": [
              "array([1, 1, 0, 1, 0])"
            ]
          },
          "metadata": {
            "tags": []
          },
          "execution_count": 30
        }
      ]
    },
    {
      "cell_type": "code",
      "metadata": {
        "colab": {
          "base_uri": "https://localhost:8080/"
        },
        "id": "m_KDhrMRoMEC",
        "outputId": "fdc99af9-1107-4656-a388-f413830af83d"
      },
      "source": [
        "## Estandarizando la variable score A:\r\n",
        "\r\n",
        "from sklearn import preprocessing\r\n",
        "X = preprocessing.StandardScaler().fit(X).transform(X)\r\n",
        "X[0:5]"
      ],
      "execution_count": 31,
      "outputs": [
        {
          "output_type": "execute_result",
          "data": {
            "text/plain": [
              "array([[9.76561308],\n",
              "       [8.54575555],\n",
              "       [8.16937721],\n",
              "       [8.02242156],\n",
              "       [7.65117146]])"
            ]
          },
          "metadata": {
            "tags": []
          },
          "execution_count": 31
        }
      ]
    },
    {
      "cell_type": "code",
      "metadata": {
        "colab": {
          "base_uri": "https://localhost:8080/"
        },
        "id": "-pQPEXHtoV0z",
        "outputId": "f7838bbb-86a8-44d8-d539-58ea7f9ea329"
      },
      "source": [
        "## Separar el dataset en conjunto de prueba y entrenamiento, en una relación 80-20:\r\n",
        "\r\n",
        "from sklearn.model_selection import train_test_split\r\n",
        "X_train, X_test, y_train, y_test = train_test_split(X, y, test_size=0.2, random_state=4)\r\n",
        "print('Train set:', X_train.shape, y_train.shape)\r\n",
        "print('Test set:', X_test.shape, y_test.shape)"
      ],
      "execution_count": 32,
      "outputs": [
        {
          "output_type": "stream",
          "text": [
            "Train set: (7264, 1) (7264,)\n",
            "Test set: (1816, 1) (1816,)\n"
          ],
          "name": "stdout"
        }
      ]
    },
    {
      "cell_type": "code",
      "metadata": {
        "colab": {
          "base_uri": "https://localhost:8080/"
        },
        "id": "YJoKIQGNogPQ",
        "outputId": "8020321a-9047-47a8-9229-8961fe270e78"
      },
      "source": [
        "## Se ajusta un modelo de regresión logística para predecir el churn en función de score A:\r\n",
        "\r\n",
        "from sklearn.linear_model import LogisticRegression\r\n",
        "from sklearn.metrics import confusion_matrix\r\n",
        "LR = LogisticRegression(C=0.01, solver='liblinear').fit(X_train, y_train)\r\n",
        "LR"
      ],
      "execution_count": 33,
      "outputs": [
        {
          "output_type": "execute_result",
          "data": {
            "text/plain": [
              "LogisticRegression(C=0.01, class_weight=None, dual=False, fit_intercept=True,\n",
              "                   intercept_scaling=1, l1_ratio=None, max_iter=100,\n",
              "                   multi_class='auto', n_jobs=None, penalty='l2',\n",
              "                   random_state=None, solver='liblinear', tol=0.0001, verbose=0,\n",
              "                   warm_start=False)"
            ]
          },
          "metadata": {
            "tags": []
          },
          "execution_count": 33
        }
      ]
    },
    {
      "cell_type": "code",
      "metadata": {
        "colab": {
          "base_uri": "https://localhost:8080/"
        },
        "id": "4ux35vRXp-4I",
        "outputId": "eaa7d201-f5b8-475e-fb6b-f3cb11406676"
      },
      "source": [
        "## Prediciendo con el conjunto de prueba:\r\n",
        "\r\n",
        "yhat = LR.predict(X_test)\r\n",
        "yhat"
      ],
      "execution_count": 34,
      "outputs": [
        {
          "output_type": "execute_result",
          "data": {
            "text/plain": [
              "array([0, 0, 0, ..., 1, 0, 1])"
            ]
          },
          "metadata": {
            "tags": []
          },
          "execution_count": 34
        }
      ]
    },
    {
      "cell_type": "code",
      "metadata": {
        "colab": {
          "base_uri": "https://localhost:8080/"
        },
        "id": "_8x5ukgfqKlw",
        "outputId": "0786b2d1-ac91-4c63-b6b8-7bdf0bae7658"
      },
      "source": [
        "## predict_proba devuelve estimaciones para todas las clases, ordenadas por la etiqueta de clases. 1st column = P(Y=1|X), 2nd column = P(Y=0|X)\r\n",
        "\r\n",
        "yhat_prob = LR.predict_proba(X_test)\r\n",
        "yhat_prob"
      ],
      "execution_count": 35,
      "outputs": [
        {
          "output_type": "execute_result",
          "data": {
            "text/plain": [
              "array([[0.51306363, 0.48693637],\n",
              "       [0.53790326, 0.46209674],\n",
              "       [0.50226632, 0.49773368],\n",
              "       ...,\n",
              "       [0.31762   , 0.68238   ],\n",
              "       [0.57779144, 0.42220856],\n",
              "       [0.48384582, 0.51615418]])"
            ]
          },
          "metadata": {
            "tags": []
          },
          "execution_count": 35
        }
      ]
    },
    {
      "cell_type": "code",
      "metadata": {
        "colab": {
          "base_uri": "https://localhost:8080/"
        },
        "id": "ZGGazqGyqWtB",
        "outputId": "d3c274ff-fe2f-4c70-e841-a9f9c3e9af0f"
      },
      "source": [
        "## Evaluación de la precisión en la predicción mediante el índice de Jaccard\r\n",
        "\r\n",
        "from sklearn.metrics import jaccard_similarity_score\r\n",
        "jaccard_similarity_score(y_test, yhat)\r\n",
        "\r\n",
        "## Si es cercano a 1 tiene un buen ajuste"
      ],
      "execution_count": 36,
      "outputs": [
        {
          "output_type": "stream",
          "text": [
            "/usr/local/lib/python3.7/dist-packages/sklearn/metrics/_classification.py:664: FutureWarning: jaccard_similarity_score has been deprecated and replaced with jaccard_score. It will be removed in version 0.23. This implementation has surprising behavior for binary and multiclass classification tasks.\n",
            "  FutureWarning)\n"
          ],
          "name": "stderr"
        },
        {
          "output_type": "execute_result",
          "data": {
            "text/plain": [
              "0.5776431718061674"
            ]
          },
          "metadata": {
            "tags": []
          },
          "execution_count": 36
        }
      ]
    },
    {
      "cell_type": "markdown",
      "metadata": {
        "id": "5nBI_YZdqoNw"
      },
      "source": [
        "En este caso la precisión es del 60% aproximadamente lo que no es tan bueno"
      ]
    },
    {
      "cell_type": "code",
      "metadata": {
        "id": "nUYJQu0MqtvZ"
      },
      "source": [
        "## Matriz de Confusion\r\n",
        "\r\n",
        "from sklearn.metrics import classification_report, confusion_matrix\r\n",
        "import itertools\r\n",
        "def plot_confusion_matrix(cm, classes,\r\n",
        "                         normalize=False,\r\n",
        "                         title='Confusion matrix',\r\n",
        "                         cmap=plt.cm.Blues):\r\n",
        "  \r\n",
        "  \"\"\"\r\n",
        "    This function prints and plots the confusion matrix.\r\n",
        "    Normalization can be applied by setting `normalize=True`.\r\n",
        "    \"\"\"\r\n",
        "  if normalize:\r\n",
        "    cm = cm.astype('float') / cm.sum(axis=1)[:, np.newaxis]\r\n",
        "    print(\"Normalized confusion matrix\")\r\n",
        "  else:\r\n",
        "    print('Confusion matrix, without normalization')\r\n",
        "    \r\n",
        "    print(cm)\r\n",
        "\r\n",
        "    plt.imshow(cm, interpolation='nearest', cmap=cmap)\r\n",
        "    plt.title(title)\r\n",
        "    plt.colorbar()\r\n",
        "    tick_marks = np.arange(len(classes))\r\n",
        "    plt.xticks(tick_marks, classes, rotation=45)\r\n",
        "    plt.yticks(tick_marks, classes)\r\n",
        "    \r\n",
        "    fmt = '.2f' if normalize else 'd'\r\n",
        "    thresh = cm.max() / 2.\r\n",
        "    for i, j in itertools.product(range(cm.shape[0]), range(cm.shape[1])):\r\n",
        "      plt.text(j, i, format(cm[i, j], fmt),\r\n",
        "              horizontalalignment=\"center\",\r\n",
        "              color=\"white\" if cm[i, j] > thresh else \"black\")\r\n",
        "      \r\n",
        "    plt.tight_layout()\r\n",
        "    plt.ylabel('True label')\r\n",
        "    plt.xlabel('Predicted label')\r\n",
        "  print(confusion_matrix(y_test, yhat, labels=[1,0]))"
      ],
      "execution_count": 37,
      "outputs": []
    },
    {
      "cell_type": "code",
      "metadata": {
        "colab": {
          "base_uri": "https://localhost:8080/",
          "height": 396
        },
        "id": "1XxHL34gq_FA",
        "outputId": "b50057e2-ca15-4dfc-8622-bd841452d3c0"
      },
      "source": [
        "# Calcular la matriz de confusion\r\n",
        "cnf_matrix = confusion_matrix(y_test, yhat, labels=[1,0])\r\n",
        "np.set_printoptions(precision=2)\r\n",
        "\r\n",
        "# Graficar la matriz de confusion no normalizada\r\n",
        "plt.figure()\r\n",
        "plot_confusion_matrix(cnf_matrix, classes=['churn=1', 'churn=0'], normalize= False, title='Confusion matrix')\r\n"
      ],
      "execution_count": 38,
      "outputs": [
        {
          "output_type": "stream",
          "text": [
            "Confusion matrix, without normalization\n",
            "[[459 472]\n",
            " [295 590]]\n",
            "[[459 472]\n",
            " [295 590]]\n"
          ],
          "name": "stdout"
        },
        {
          "output_type": "display_data",
          "data": {
            "image/png": "[encoded data removed]",
            "text/plain": [
              "<Figure size 432x288 with 2 Axes>"
            ]
          },
          "metadata": {
            "tags": [],
            "needs_background": "light"
          }
        }
      ]
    },
    {
      "cell_type": "markdown",
      "metadata": {
        "id": "t5WTd_MOrZGL"
      },
      "source": [
        "Si se observa la primera fila esta es para aquellos clientes cuyo valor actual de churn en el conjunto de prueba es 1, es decir, de los 1816 clientes que constituyen el conjunto de prueba, el valor del churn para 931 de ellos es 1 y de estos 931, el clasificador predijo correctamente 459 como 1 y 472 como 0.\r\n",
        "\r\n",
        "Esto significa que para 459 clientes el valor actual del churn fue 1 en el conjunto de prueba y el clasificador predijo correctamente estos como 1; sin embargo a los 472 que clasificó como 1, el clasificador los predijo como 0, lo cual es un error.\r\n",
        "\r\n",
        "Por otro lado, hubo 885  clientes cuyo valor de churn fue 0. El clasificador correctamente predijo 590 como 0 y 295 los clasificó erroneamente como 1, aquí el error no fue tan alto como en la clase 1."
      ]
    },
    {
      "cell_type": "code",
      "metadata": {
        "colab": {
          "base_uri": "https://localhost:8080/"
        },
        "id": "8qXNenwyuVh5",
        "outputId": "a7e4699b-690b-4a34-d367-0e7c9f06f0fd"
      },
      "source": [
        "# Se observa la precisión para predecir cada clase y la precisión del modelo en general\r\n",
        "\r\n",
        "print(classification_report(y_test, yhat))"
      ],
      "execution_count": 39,
      "outputs": [
        {
          "output_type": "stream",
          "text": [
            "              precision    recall  f1-score   support\n",
            "\n",
            "           0       0.56      0.67      0.61       885\n",
            "           1       0.61      0.49      0.54       931\n",
            "\n",
            "    accuracy                           0.58      1816\n",
            "   macro avg       0.58      0.58      0.58      1816\n",
            "weighted avg       0.58      0.58      0.57      1816\n",
            "\n"
          ],
          "name": "stdout"
        }
      ]
    },
    {
      "cell_type": "code",
      "metadata": {
        "colab": {
          "base_uri": "https://localhost:8080/"
        },
        "id": "Z3tbn_jculJo",
        "outputId": "c523d011-f7f7-4eb7-ded7-dd9f23ad7bff"
      },
      "source": [
        "## Log loss: mide el rendimiento de un clasificador donde la salida prevista es un valor de probabilidad entre 0 y 1:\r\n",
        "\r\n",
        "from sklearn.metrics import log_loss\r\n",
        "log_loss(y_test, yhat_prob)"
      ],
      "execution_count": 40,
      "outputs": [
        {
          "output_type": "execute_result",
          "data": {
            "text/plain": [
              "0.6796661146570384"
            ]
          },
          "metadata": {
            "tags": []
          },
          "execution_count": 40
        }
      ]
    },
    {
      "cell_type": "markdown",
      "metadata": {
        "id": "UlFq5IT8vx-Y"
      },
      "source": [
        "Mejoró la precisión a un 68%"
      ]
    },
    {
      "cell_type": "code",
      "metadata": {
        "colab": {
          "base_uri": "https://localhost:8080/"
        },
        "id": "tShIjhqlv075",
        "outputId": "b00974b8-0883-4cf2-8ca4-1a7bb5f17693"
      },
      "source": [
        "## Se corre el modelo de Regresión logística nuevamente para el mismo conjunto de datos, pero esta vez, use diferentes valores de __solver__ y __regularization__ values:\r\n",
        "\r\n",
        "\r\n",
        "from sklearn.linear_model import LogisticRegression\r\n",
        "from sklearn.metrics import confusion_matrix\r\n",
        "LR = LogisticRegression(C=0.05, solver='lbfgs').fit(X_train, y_train)\r\n",
        "LR"
      ],
      "execution_count": 41,
      "outputs": [
        {
          "output_type": "execute_result",
          "data": {
            "text/plain": [
              "LogisticRegression(C=0.05, class_weight=None, dual=False, fit_intercept=True,\n",
              "                   intercept_scaling=1, l1_ratio=None, max_iter=100,\n",
              "                   multi_class='auto', n_jobs=None, penalty='l2',\n",
              "                   random_state=None, solver='lbfgs', tol=0.0001, verbose=0,\n",
              "                   warm_start=False)"
            ]
          },
          "metadata": {
            "tags": []
          },
          "execution_count": 41
        }
      ]
    },
    {
      "cell_type": "code",
      "metadata": {
        "colab": {
          "base_uri": "https://localhost:8080/"
        },
        "id": "sDtVwVSYwFHg",
        "outputId": "07f63c29-08f8-4ab9-c1c6-a7b61a5dd2fc"
      },
      "source": [
        "## Predicting using the test set:\r\n",
        "\r\n",
        "yhat = LR.predict(X_test)\r\n",
        "yhat"
      ],
      "execution_count": 42,
      "outputs": [
        {
          "output_type": "execute_result",
          "data": {
            "text/plain": [
              "array([0, 0, 0, ..., 1, 0, 1])"
            ]
          },
          "metadata": {
            "tags": []
          },
          "execution_count": 42
        }
      ]
    },
    {
      "cell_type": "code",
      "metadata": {
        "colab": {
          "base_uri": "https://localhost:8080/"
        },
        "id": "iosbZJXMwILp",
        "outputId": "0787fa02-7605-4b30-bd24-9838862669e8"
      },
      "source": [
        "yhat_prob = LR.predict_proba(X_test)\r\n",
        "yhat_prob"
      ],
      "execution_count": 43,
      "outputs": [
        {
          "output_type": "execute_result",
          "data": {
            "text/plain": [
              "array([[0.51, 0.49],\n",
              "       [0.54, 0.46],\n",
              "       [0.5 , 0.5 ],\n",
              "       ...,\n",
              "       [0.31, 0.69],\n",
              "       [0.58, 0.42],\n",
              "       [0.48, 0.52]])"
            ]
          },
          "metadata": {
            "tags": []
          },
          "execution_count": 43
        }
      ]
    },
    {
      "cell_type": "code",
      "metadata": {
        "colab": {
          "base_uri": "https://localhost:8080/"
        },
        "id": "w61xlk5bwI86",
        "outputId": "d0922148-5f48-4d35-df85-dd013dd689f9"
      },
      "source": [
        "from sklearn.metrics import jaccard_similarity_score\r\n",
        "jaccard_similarity_score(y_test, yhat)"
      ],
      "execution_count": 44,
      "outputs": [
        {
          "output_type": "stream",
          "text": [
            "/usr/local/lib/python3.7/dist-packages/sklearn/metrics/_classification.py:664: FutureWarning: jaccard_similarity_score has been deprecated and replaced with jaccard_score. It will be removed in version 0.23. This implementation has surprising behavior for binary and multiclass classification tasks.\n",
            "  FutureWarning)\n"
          ],
          "name": "stderr"
        },
        {
          "output_type": "execute_result",
          "data": {
            "text/plain": [
              "0.579295154185022"
            ]
          },
          "metadata": {
            "tags": []
          },
          "execution_count": 44
        }
      ]
    },
    {
      "cell_type": "markdown",
      "metadata": {
        "id": "fapwo3LXwUdJ"
      },
      "source": [
        "Dieron practicamente los mismos resultados"
      ]
    },
    {
      "cell_type": "code",
      "metadata": {
        "colab": {
          "base_uri": "https://localhost:8080/",
          "height": 396
        },
        "id": "N3HleAU6wNTA",
        "outputId": "aa131619-2aa7-4849-b822-99c345a86b0f"
      },
      "source": [
        "# Compute confusion matrix\r\n",
        "cnf_matrix = confusion_matrix(y_test, yhat, labels=[1,0])\r\n",
        "np.set_printoptions(precision=2)\r\n",
        "\r\n",
        "\r\n",
        "# Plot non-normalized confusion matrix\r\n",
        "plt.figure()\r\n",
        "plot_confusion_matrix(cnf_matrix, classes=['churn=1','churn=0'],normalize= False,  title='Confusion matrix')"
      ],
      "execution_count": 45,
      "outputs": [
        {
          "output_type": "stream",
          "text": [
            "Confusion matrix, without normalization\n",
            "[[462 469]\n",
            " [295 590]]\n",
            "[[462 469]\n",
            " [295 590]]\n"
          ],
          "name": "stdout"
        },
        {
          "output_type": "display_data",
          "data": {
            "image/png": "[encoded data removed]",
            "text/plain": [
              "<Figure size 432x288 with 2 Axes>"
            ]
          },
          "metadata": {
            "tags": [],
            "needs_background": "light"
          }
        }
      ]
    },
    {
      "cell_type": "code",
      "metadata": {
        "colab": {
          "base_uri": "https://localhost:8080/"
        },
        "id": "Cbf70r4SwdKB",
        "outputId": "4f27f08a-e33a-44a1-8a1a-1f2cf06303e8"
      },
      "source": [
        "print (classification_report(y_test, yhat))\r\n"
      ],
      "execution_count": 46,
      "outputs": [
        {
          "output_type": "stream",
          "text": [
            "              precision    recall  f1-score   support\n",
            "\n",
            "           0       0.56      0.67      0.61       885\n",
            "           1       0.61      0.50      0.55       931\n",
            "\n",
            "    accuracy                           0.58      1816\n",
            "   macro avg       0.58      0.58      0.58      1816\n",
            "weighted avg       0.58      0.58      0.58      1816\n",
            "\n"
          ],
          "name": "stdout"
        }
      ]
    },
    {
      "cell_type": "code",
      "metadata": {
        "colab": {
          "base_uri": "https://localhost:8080/"
        },
        "id": "U9O-zbnlwh4C",
        "outputId": "006f9eab-5c37-4d6d-c586-5078b0a45413"
      },
      "source": [
        "from sklearn.metrics import log_loss\r\n",
        "log_loss(y_test, yhat_prob)"
      ],
      "execution_count": 47,
      "outputs": [
        {
          "output_type": "execute_result",
          "data": {
            "text/plain": [
              "0.6800746731855881"
            ]
          },
          "metadata": {
            "tags": []
          },
          "execution_count": 47
        }
      ]
    },
    {
      "cell_type": "markdown",
      "metadata": {
        "id": "2PhD7I3jwqOh"
      },
      "source": [
        "La precisión sigue dando 68%"
      ]
    },
    {
      "cell_type": "markdown",
      "metadata": {
        "id": "cbDzLIDl13Id"
      },
      "source": [
        "Se repite todo el mismo proceso pero para Score B"
      ]
    },
    {
      "cell_type": "code",
      "metadata": {
        "colab": {
          "base_uri": "https://localhost:8080/"
        },
        "id": "RzfRHUHIwueb",
        "outputId": "ec1b3de5-b102-4025-e2fd-84c8c66f0625"
      },
      "source": [
        "# Se coloca en un vector el score B ya limpio (sin NA)\r\n",
        "\r\n",
        "X = np.asarray(churn_df[['Score B']])\r\n",
        "X"
      ],
      "execution_count": 48,
      "outputs": [
        {
          "output_type": "execute_result",
          "data": {
            "text/plain": [
              "array([[17.],\n",
              "       [ 1.],\n",
              "       [21.],\n",
              "       ...,\n",
              "       [20.],\n",
              "       [12.],\n",
              "       [15.]])"
            ]
          },
          "metadata": {
            "tags": []
          },
          "execution_count": 48
        }
      ]
    },
    {
      "cell_type": "code",
      "metadata": {
        "colab": {
          "base_uri": "https://localhost:8080/"
        },
        "id": "QbHxRUnn1644",
        "outputId": "703c3edb-a693-41e1-b911-df18ba370cfa"
      },
      "source": [
        "## La variable churn en un vector aparte:\r\n",
        "\r\n",
        "y = np.asarray(churn_df['churn'])\r\n",
        "y[0:5]"
      ],
      "execution_count": 49,
      "outputs": [
        {
          "output_type": "execute_result",
          "data": {
            "text/plain": [
              "array([1, 1, 0, 1, 0])"
            ]
          },
          "metadata": {
            "tags": []
          },
          "execution_count": 49
        }
      ]
    },
    {
      "cell_type": "code",
      "metadata": {
        "colab": {
          "base_uri": "https://localhost:8080/"
        },
        "id": "GhilDbIr19dA",
        "outputId": "3502353b-c55d-4684-cd94-673b9c9c3c20"
      },
      "source": [
        "## Separar el dataset en conjunto de prueba y entrenamiento, en una relación 80-20:\r\n",
        "\r\n",
        "from sklearn.model_selection import train_test_split\r\n",
        "X_train, X_test, y_train, y_test = train_test_split(X, y, test_size=0.2, random_state=4)\r\n",
        "print('Train set:', X_train.shape, y_train.shape)\r\n",
        "print('Test set:', X_test.shape, y_test.shape)"
      ],
      "execution_count": 51,
      "outputs": [
        {
          "output_type": "stream",
          "text": [
            "Train set: (7264, 1) (7264,)\n",
            "Test set: (1816, 1) (1816,)\n"
          ],
          "name": "stdout"
        }
      ]
    },
    {
      "cell_type": "code",
      "metadata": {
        "colab": {
          "base_uri": "https://localhost:8080/"
        },
        "id": "t7Q5oxlu19kn",
        "outputId": "6fa67ac9-9c08-4c40-d53e-c7e992f1bdf4"
      },
      "source": [
        "## Se ajusta un modelo de regresión logística para predecir el churn en función de score A:\r\n",
        "\r\n",
        "from sklearn.linear_model import LogisticRegression\r\n",
        "from sklearn.metrics import confusion_matrix\r\n",
        "LR = LogisticRegression(C=0.01, solver='liblinear').fit(X_train, y_train)\r\n",
        "LR"
      ],
      "execution_count": 52,
      "outputs": [
        {
          "output_type": "execute_result",
          "data": {
            "text/plain": [
              "LogisticRegression(C=0.01, class_weight=None, dual=False, fit_intercept=True,\n",
              "                   intercept_scaling=1, l1_ratio=None, max_iter=100,\n",
              "                   multi_class='auto', n_jobs=None, penalty='l2',\n",
              "                   random_state=None, solver='liblinear', tol=0.0001, verbose=0,\n",
              "                   warm_start=False)"
            ]
          },
          "metadata": {
            "tags": []
          },
          "execution_count": 52
        }
      ]
    },
    {
      "cell_type": "code",
      "metadata": {
        "colab": {
          "base_uri": "https://localhost:8080/"
        },
        "id": "GFil3lI92MkS",
        "outputId": "72c1b582-539d-42e4-c60b-b4a0695b8b9b"
      },
      "source": [
        "## Prediciendo con el conjunto de prueba:\r\n",
        "\r\n",
        "yhat = LR.predict(X_test)\r\n",
        "yhat"
      ],
      "execution_count": 53,
      "outputs": [
        {
          "output_type": "execute_result",
          "data": {
            "text/plain": [
              "array([0, 0, 0, ..., 0, 1, 0])"
            ]
          },
          "metadata": {
            "tags": []
          },
          "execution_count": 53
        }
      ]
    },
    {
      "cell_type": "code",
      "metadata": {
        "colab": {
          "base_uri": "https://localhost:8080/"
        },
        "id": "ntQ3dmuJ2P5T",
        "outputId": "cb3384c4-7f16-4cc6-b49a-09ba9cdf7418"
      },
      "source": [
        "## predict_proba devuelve estimaciones para todas las clases, ordenadas por la etiqueta de clases. 1st column = P(Y=1|X), 2nd column = P(Y=0|X)\r\n",
        "\r\n",
        "yhat_prob = LR.predict_proba(X_test)\r\n",
        "yhat_prob"
      ],
      "execution_count": 54,
      "outputs": [
        {
          "output_type": "execute_result",
          "data": {
            "text/plain": [
              "array([[0.66, 0.34],\n",
              "       [0.6 , 0.4 ],\n",
              "       [0.56, 0.44],\n",
              "       ...,\n",
              "       [0.56, 0.44],\n",
              "       [0.35, 0.65],\n",
              "       [0.64, 0.36]])"
            ]
          },
          "metadata": {
            "tags": []
          },
          "execution_count": 54
        }
      ]
    },
    {
      "cell_type": "code",
      "metadata": {
        "colab": {
          "base_uri": "https://localhost:8080/"
        },
        "id": "D_nkUJBw2RIg",
        "outputId": "4ff8a149-a9b0-4307-88cb-24321ea7d8cc"
      },
      "source": [
        "## Evaluación de la precisión en la predicción mediante el índice de Jaccard\r\n",
        "\r\n",
        "from sklearn.metrics import jaccard_similarity_score\r\n",
        "jaccard_similarity_score(y_test, yhat)\r\n",
        "\r\n",
        "## Si es cercano a 1 tiene un buen ajuste"
      ],
      "execution_count": 55,
      "outputs": [
        {
          "output_type": "stream",
          "text": [
            "/usr/local/lib/python3.7/dist-packages/sklearn/metrics/_classification.py:664: FutureWarning: jaccard_similarity_score has been deprecated and replaced with jaccard_score. It will be removed in version 0.23. This implementation has surprising behavior for binary and multiclass classification tasks.\n",
            "  FutureWarning)\n"
          ],
          "name": "stderr"
        },
        {
          "output_type": "execute_result",
          "data": {
            "text/plain": [
              "0.6365638766519823"
            ]
          },
          "metadata": {
            "tags": []
          },
          "execution_count": 55
        }
      ]
    },
    {
      "cell_type": "markdown",
      "metadata": {
        "id": "FwOae57C2VMP"
      },
      "source": [
        "Mejoró el ajuste con respecto al score A, aqui dió una precisión del 64%, mientras que en score A dió 58%"
      ]
    },
    {
      "cell_type": "code",
      "metadata": {
        "id": "TpK82EcN2k1l"
      },
      "source": [
        "## Matriz de Confusion\r\n",
        "\r\n",
        "from sklearn.metrics import classification_report, confusion_matrix\r\n",
        "import itertools\r\n",
        "def plot_confusion_matrix(cm, classes,\r\n",
        "                         normalize=False,\r\n",
        "                         title='Confusion matrix',\r\n",
        "                         cmap=plt.cm.Blues):\r\n",
        "  \r\n",
        "  \"\"\"\r\n",
        "    This function prints and plots the confusion matrix.\r\n",
        "    Normalization can be applied by setting `normalize=True`.\r\n",
        "    \"\"\"\r\n",
        "  if normalize:\r\n",
        "    cm = cm.astype('float') / cm.sum(axis=1)[:, np.newaxis]\r\n",
        "    print(\"Normalized confusion matrix\")\r\n",
        "  else:\r\n",
        "    print('Confusion matrix, without normalization')\r\n",
        "    \r\n",
        "    print(cm)\r\n",
        "\r\n",
        "    plt.imshow(cm, interpolation='nearest', cmap=cmap)\r\n",
        "    plt.title(title)\r\n",
        "    plt.colorbar()\r\n",
        "    tick_marks = np.arange(len(classes))\r\n",
        "    plt.xticks(tick_marks, classes, rotation=45)\r\n",
        "    plt.yticks(tick_marks, classes)\r\n",
        "    \r\n",
        "    fmt = '.2f' if normalize else 'd'\r\n",
        "    thresh = cm.max() / 2.\r\n",
        "    for i, j in itertools.product(range(cm.shape[0]), range(cm.shape[1])):\r\n",
        "      plt.text(j, i, format(cm[i, j], fmt),\r\n",
        "              horizontalalignment=\"center\",\r\n",
        "              color=\"white\" if cm[i, j] > thresh else \"black\")\r\n",
        "      \r\n",
        "    plt.tight_layout()\r\n",
        "    plt.ylabel('True label')\r\n",
        "    plt.xlabel('Predicted label')\r\n",
        "  print(confusion_matrix(y_test, yhat, labels=[1,0]))"
      ],
      "execution_count": 56,
      "outputs": []
    },
    {
      "cell_type": "code",
      "metadata": {
        "colab": {
          "base_uri": "https://localhost:8080/",
          "height": 396
        },
        "id": "HK2c-uQ_2o2R",
        "outputId": "487687d2-2ab2-43a6-9762-85ebe9b58c4b"
      },
      "source": [
        "# Calcular la matriz de confusion\r\n",
        "cnf_matrix = confusion_matrix(y_test, yhat, labels=[1,0])\r\n",
        "np.set_printoptions(precision=2)\r\n",
        "\r\n",
        "# Graficar la matriz de confusion no normalizada\r\n",
        "plt.figure()\r\n",
        "plot_confusion_matrix(cnf_matrix, classes=['churn=1', 'churn=0'], normalize= False, title='Confusion matrix')\r\n"
      ],
      "execution_count": 57,
      "outputs": [
        {
          "output_type": "stream",
          "text": [
            "Confusion matrix, without normalization\n",
            "[[533 398]\n",
            " [262 623]]\n",
            "[[533 398]\n",
            " [262 623]]\n"
          ],
          "name": "stdout"
        },
        {
          "output_type": "display_data",
          "data": {
            "image/png": "[encoded data removed]",
            "text/plain": [
              "<Figure size 432x288 with 2 Axes>"
            ]
          },
          "metadata": {
            "tags": [],
            "needs_background": "light"
          }
        }
      ]
    },
    {
      "cell_type": "markdown",
      "metadata": {
        "id": "m9PvfbAJ2tIu"
      },
      "source": [
        "Si se observa la primera fila esta es para aquellos clientes cuyo valor actual de churn en el conjunto de prueba es 1, es decir, de los 1816 clientes que constituyen el conjunto de prueba, el valor del churn para 931 de ellos es 1 y de estos 931, el clasificador predijo correctamente 533 como 1 y 398 como 0.\r\n",
        "\r\n",
        "Esto significa que para 533 clientes el valor actual del churn fue 1 en el conjunto de prueba y el clasificador predijo correctamente estos como 1; sin embargo a los 398 que clasificó como 1, el clasificador los predijo como 0, lo cual es un error.\r\n",
        "\r\n",
        "Por otro lado, hubo 885 clientes cuyo valor de churn fue 0. El clasificador correctamente predijo 623 como 0 y 262 los clasificó erroneamente como 1, aquí el error no fue tan alto como en la clase 1."
      ]
    },
    {
      "cell_type": "code",
      "metadata": {
        "colab": {
          "base_uri": "https://localhost:8080/"
        },
        "id": "H7VNBxje2rDp",
        "outputId": "7789aed6-4c5f-451c-9f33-73fc6228f985"
      },
      "source": [
        "# Se observa la precisión para predecir cada clase y la precisión del modelo en general\r\n",
        "\r\n",
        "print(classification_report(y_test, yhat))"
      ],
      "execution_count": 58,
      "outputs": [
        {
          "output_type": "stream",
          "text": [
            "              precision    recall  f1-score   support\n",
            "\n",
            "           0       0.61      0.70      0.65       885\n",
            "           1       0.67      0.57      0.62       931\n",
            "\n",
            "    accuracy                           0.64      1816\n",
            "   macro avg       0.64      0.64      0.64      1816\n",
            "weighted avg       0.64      0.64      0.64      1816\n",
            "\n"
          ],
          "name": "stdout"
        }
      ]
    },
    {
      "cell_type": "markdown",
      "metadata": {
        "id": "5JMsi6BD3U2R"
      },
      "source": [
        "Nuevamente se observa que mejoró con respecto al modelo en función del score A."
      ]
    },
    {
      "cell_type": "code",
      "metadata": {
        "colab": {
          "base_uri": "https://localhost:8080/"
        },
        "id": "mzr8EDRs3b4S",
        "outputId": "18e31bff-6093-420a-c2ea-d67aef9c58d3"
      },
      "source": [
        "## Log loss: mide el rendimiento de un clasificador donde la salida prevista es un valor de probabilidad entre 0 y 1:\r\n",
        "\r\n",
        "from sklearn.metrics import log_loss\r\n",
        "log_loss(y_test, yhat_prob)"
      ],
      "execution_count": 59,
      "outputs": [
        {
          "output_type": "execute_result",
          "data": {
            "text/plain": [
              "0.636504743028448"
            ]
          },
          "metadata": {
            "tags": []
          },
          "execution_count": 59
        }
      ]
    },
    {
      "cell_type": "markdown",
      "metadata": {
        "id": "-qeTPw5O3gNU"
      },
      "source": [
        "Esta métrica si dio un poco más baja con respecto al score A, en donde se obtuvo un log loss del 68%"
      ]
    },
    {
      "cell_type": "code",
      "metadata": {
        "colab": {
          "base_uri": "https://localhost:8080/"
        },
        "id": "zh-8T4mM3quL",
        "outputId": "8313726e-3a3e-477b-e375-93b9978de71e"
      },
      "source": [
        "## Se corre el modelo de Regresión logística nuevamente para el mismo conjunto de datos, pero esta vez, use diferentes valores de __solver__ y __regularization__ values:\r\n",
        "\r\n",
        "\r\n",
        "from sklearn.linear_model import LogisticRegression\r\n",
        "from sklearn.metrics import confusion_matrix\r\n",
        "LR = LogisticRegression(C=0.05, solver='lbfgs').fit(X_train, y_train)\r\n",
        "LR"
      ],
      "execution_count": 60,
      "outputs": [
        {
          "output_type": "execute_result",
          "data": {
            "text/plain": [
              "LogisticRegression(C=0.05, class_weight=None, dual=False, fit_intercept=True,\n",
              "                   intercept_scaling=1, l1_ratio=None, max_iter=100,\n",
              "                   multi_class='auto', n_jobs=None, penalty='l2',\n",
              "                   random_state=None, solver='lbfgs', tol=0.0001, verbose=0,\n",
              "                   warm_start=False)"
            ]
          },
          "metadata": {
            "tags": []
          },
          "execution_count": 60
        }
      ]
    },
    {
      "cell_type": "code",
      "metadata": {
        "colab": {
          "base_uri": "https://localhost:8080/"
        },
        "id": "M4zBWzRd3uXp",
        "outputId": "1de04d29-5f4e-4df0-86d5-0c4607c8867d"
      },
      "source": [
        "## Predicting using the test set:\r\n",
        "\r\n",
        "yhat = LR.predict(X_test)\r\n",
        "yhat"
      ],
      "execution_count": 61,
      "outputs": [
        {
          "output_type": "execute_result",
          "data": {
            "text/plain": [
              "array([0, 0, 0, ..., 0, 1, 0])"
            ]
          },
          "metadata": {
            "tags": []
          },
          "execution_count": 61
        }
      ]
    },
    {
      "cell_type": "code",
      "metadata": {
        "colab": {
          "base_uri": "https://localhost:8080/"
        },
        "id": "3jwoOnfn3vbB",
        "outputId": "5386ea60-165d-47ad-8e55-9d519e01b94c"
      },
      "source": [
        "yhat_prob = LR.predict_proba(X_test)\r\n",
        "yhat_prob"
      ],
      "execution_count": 62,
      "outputs": [
        {
          "output_type": "execute_result",
          "data": {
            "text/plain": [
              "array([[0.67, 0.33],\n",
              "       [0.61, 0.39],\n",
              "       [0.56, 0.44],\n",
              "       ...,\n",
              "       [0.56, 0.44],\n",
              "       [0.35, 0.65],\n",
              "       [0.65, 0.35]])"
            ]
          },
          "metadata": {
            "tags": []
          },
          "execution_count": 62
        }
      ]
    },
    {
      "cell_type": "code",
      "metadata": {
        "colab": {
          "base_uri": "https://localhost:8080/"
        },
        "id": "qf5jhwzZ3xNJ",
        "outputId": "47a33622-f1b0-4aaa-8098-36ce16cf4a50"
      },
      "source": [
        "from sklearn.metrics import jaccard_similarity_score\r\n",
        "jaccard_similarity_score(y_test, yhat)"
      ],
      "execution_count": 63,
      "outputs": [
        {
          "output_type": "stream",
          "text": [
            "/usr/local/lib/python3.7/dist-packages/sklearn/metrics/_classification.py:664: FutureWarning: jaccard_similarity_score has been deprecated and replaced with jaccard_score. It will be removed in version 0.23. This implementation has surprising behavior for binary and multiclass classification tasks.\n",
            "  FutureWarning)\n"
          ],
          "name": "stderr"
        },
        {
          "output_type": "execute_result",
          "data": {
            "text/plain": [
              "0.6365638766519823"
            ]
          },
          "metadata": {
            "tags": []
          },
          "execution_count": 63
        }
      ]
    },
    {
      "cell_type": "markdown",
      "metadata": {
        "id": "z46uJN8j342P"
      },
      "source": [
        "Nuevamente dió un índice de Jaccard del 64%"
      ]
    },
    {
      "cell_type": "code",
      "metadata": {
        "colab": {
          "base_uri": "https://localhost:8080/",
          "height": 396
        },
        "id": "ffKsBI0139EL",
        "outputId": "04035883-b433-4094-d9e1-5e52b54704f9"
      },
      "source": [
        "# Compute confusion matrix\r\n",
        "cnf_matrix = confusion_matrix(y_test, yhat, labels=[1,0])\r\n",
        "np.set_printoptions(precision=2)\r\n",
        "\r\n",
        "\r\n",
        "# Plot non-normalized confusion matrix\r\n",
        "plt.figure()\r\n",
        "plot_confusion_matrix(cnf_matrix, classes=['churn=1','churn=0'],normalize= False,  title='Confusion matrix')"
      ],
      "execution_count": 64,
      "outputs": [
        {
          "output_type": "stream",
          "text": [
            "Confusion matrix, without normalization\n",
            "[[533 398]\n",
            " [262 623]]\n",
            "[[533 398]\n",
            " [262 623]]\n"
          ],
          "name": "stdout"
        },
        {
          "output_type": "display_data",
          "data": {
            "image/png": "[encoded data removed]",
            "text/plain": [
              "<Figure size 432x288 with 2 Axes>"
            ]
          },
          "metadata": {
            "tags": [],
            "needs_background": "light"
          }
        }
      ]
    },
    {
      "cell_type": "code",
      "metadata": {
        "colab": {
          "base_uri": "https://localhost:8080/"
        },
        "id": "uUce_9Zi4Fxi",
        "outputId": "34262982-8617-4c13-b5e0-89a5eb23c561"
      },
      "source": [
        "print (classification_report(y_test, yhat))\r\n"
      ],
      "execution_count": 65,
      "outputs": [
        {
          "output_type": "stream",
          "text": [
            "              precision    recall  f1-score   support\n",
            "\n",
            "           0       0.61      0.70      0.65       885\n",
            "           1       0.67      0.57      0.62       931\n",
            "\n",
            "    accuracy                           0.64      1816\n",
            "   macro avg       0.64      0.64      0.64      1816\n",
            "weighted avg       0.64      0.64      0.64      1816\n",
            "\n"
          ],
          "name": "stdout"
        }
      ]
    },
    {
      "cell_type": "code",
      "metadata": {
        "colab": {
          "base_uri": "https://localhost:8080/"
        },
        "id": "LFhAjPlF4Imy",
        "outputId": "b3364979-c61e-4b15-e09f-ec38cf1c0cfb"
      },
      "source": [
        "from sklearn.metrics import log_loss\r\n",
        "log_loss(y_test, yhat_prob)"
      ],
      "execution_count": 66,
      "outputs": [
        {
          "output_type": "execute_result",
          "data": {
            "text/plain": [
              "0.635724433876875"
            ]
          },
          "metadata": {
            "tags": []
          },
          "execution_count": 66
        }
      ]
    },
    {
      "cell_type": "markdown",
      "metadata": {
        "id": "HyQwdFJn4LMS"
      },
      "source": [
        "La precisión sigue dando 64%"
      ]
    },
    {
      "cell_type": "markdown",
      "metadata": {
        "id": "Zl4lkkbr4QgD"
      },
      "source": [
        "Se concluye que el score B puede predecir un poco mejor que el score A bajo un modelo de regresión logístico según los pindices de Jaccard y la matriz de confusión y sus métricas asociadas."
      ]
    }
  ]
}